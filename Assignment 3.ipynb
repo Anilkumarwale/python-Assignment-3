{
 "cells": [
  {
   "cell_type": "markdown",
   "id": "b6cc0780",
   "metadata": {},
   "source": [
    "1. Why are functions advantageous to have in your programs?\n",
    "\n",
    "Answer:  The functions are advantageous in our program because fucntions are defined for a particular operation and it can be used again and again for different parameters instead of logic repediatly."
   ]
  },
  {
   "cell_type": "markdown",
   "id": "2bd981e0",
   "metadata": {},
   "source": [
    "2. When does the code in a function run: when it's specified or when it's called?\n",
    "\n",
    "Answer: The code in a function runs when we call the function."
   ]
  },
  {
   "cell_type": "markdown",
   "id": "91e89c45",
   "metadata": {},
   "source": [
    "3. What statement creates a function?\n",
    "\n",
    "Answer: defination statement creates a function.\n",
    "def function_name(parameters).\n",
    "def function():"
   ]
  },
  {
   "cell_type": "markdown",
   "id": "2e880fa0",
   "metadata": {},
   "source": [
    "4. What is the difference between a function and a function call?\n",
    "\n",
    "Answer:  Funcion is a set of instructions or statement and function call is nothing but running the function for a required opertaion."
   ]
  },
  {
   "cell_type": "markdown",
   "id": "d5e61f1d",
   "metadata": {},
   "source": [
    "5. How many global scopes are there in a Python program? How many local scopes?\n",
    "\n",
    "Answer: There are one local scopes and one global scopes are in  python."
   ]
  },
  {
   "cell_type": "markdown",
   "id": "cccfda92",
   "metadata": {},
   "source": [
    "6. What happens to variables in a local scope when the function call returns?\n",
    "\n",
    "Answer: The variables in the local scope can be accessed only within the function so it can be executed first."
   ]
  },
  {
   "cell_type": "markdown",
   "id": "36c6c726",
   "metadata": {},
   "source": [
    "7. What is the concept of a return value? Is it possible to have a return value in an expression?\n",
    "\n",
    "Answer: The return value is an statement used inside the function to send result back to the caller. No return statement cannot be used in expression.\n"
   ]
  },
  {
   "cell_type": "markdown",
   "id": "0f90edc2",
   "metadata": {},
   "source": [
    "8. If a function does not have a return statement, what is the return value of a call to that function?\n",
    "\n",
    "Answer: If a function does not have a return statement, than it does not print anything."
   ]
  },
  {
   "cell_type": "markdown",
   "id": "1786c437",
   "metadata": {},
   "source": [
    "9. How do you make a function variable refer to the global variable?\n",
    "\n",
    "Answer: A function variable refer to the global variable by using a assignment operator.\n",
    "     \n",
    "for example:\n",
    "    #a=50 - global variable\n",
    "    \n",
    "    def fun(b,c):\n",
    "        \n",
    "        b=a - local variable\n",
    "        \n",
    "        return a*c"
   ]
  },
  {
   "cell_type": "markdown",
   "id": "0f0fe5ec",
   "metadata": {},
   "source": [
    "10. What is the data type of None?\n",
    "\n",
    "Answer: None is an None type data.\n",
    "a=None\n",
    "type(a) is None"
   ]
  },
  {
   "cell_type": "markdown",
   "id": "b039d458",
   "metadata": {},
   "source": [
    "11. What does the sentence import do?\n",
    "\n",
    "Answer: The sentence import in python will import modules in the program."
   ]
  },
  {
   "cell_type": "markdown",
   "id": "65589215",
   "metadata": {},
   "source": [
    "12. If you had a bacon() feature in a spam module, what would you call it after importing spam?\n",
    "\n",
    "Answer: spam.bacon()"
   ]
  },
  {
   "cell_type": "markdown",
   "id": "14ffd236",
   "metadata": {},
   "source": [
    "13. What can you do to save a programme from crashing if it encounters an error?\n",
    "\n",
    "Answer: We use Exception handling."
   ]
  },
  {
   "cell_type": "markdown",
   "id": "5d550ee6",
   "metadata": {},
   "source": [
    "14. What is the purpose of the try clause? What is the purpose of the except clause?\n",
    "\n",
    "Answer: try clause is a block in which we can write a set of code and gives permission to raise the exception. If Exception is raised it will comes to the except block and anything we defined inside the except block and it will be executed.\n",
    "\n"
   ]
  },
  {
   "cell_type": "code",
   "execution_count": null,
   "id": "459b2fc0",
   "metadata": {},
   "outputs": [],
   "source": []
  }
 ],
 "metadata": {
  "kernelspec": {
   "display_name": "Python 3 (ipykernel)",
   "language": "python",
   "name": "python3"
  },
  "language_info": {
   "codemirror_mode": {
    "name": "ipython",
    "version": 3
   },
   "file_extension": ".py",
   "mimetype": "text/x-python",
   "name": "python",
   "nbconvert_exporter": "python",
   "pygments_lexer": "ipython3",
   "version": "3.9.7"
  }
 },
 "nbformat": 4,
 "nbformat_minor": 5
}
